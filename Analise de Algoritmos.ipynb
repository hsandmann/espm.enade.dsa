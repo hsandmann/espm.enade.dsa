{
 "cells": [
  {
   "cell_type": "markdown",
   "metadata": {},
   "source": [
    "# Análise de Algoritmos"
   ]
  },
  {
   "cell_type": "markdown",
   "metadata": {},
   "source": [
    "## Algoritmos de ordenação\n",
    "### Quick sort\n",
    "\n",
    "Este algoritmo utiliza a estratégia dividir e conquistar.\n"
   ]
  },
  {
   "cell_type": "code",
   "execution_count": 1,
   "metadata": {},
   "outputs": [
    {
     "name": "stdout",
     "output_type": "stream",
     "text": [
      "Writing QuickSort.java\n"
     ]
    }
   ],
   "source": [
    "%%file QuickSort.java\n",
    "\n",
    "import java.util.Arrays;\n",
    "import java.util.concurrent.ThreadLocalRandom;\n",
    "\n",
    "public class QuickSort {\n",
    "\n",
    "    public static void main(String [] args) {\n",
    "        new QuickSort(randomInt(0, 99, 20));\n",
    "    }\n",
    "    \n",
    "    public final int[] values;\n",
    "    \n",
    "    public QuickSort(int[] values) {\n",
    "        this.values = values;\n",
    "        System.out.println(\"in : \" + Arrays.toString(values));\n",
    "        quick(0, values.length - 1);\n",
    "        System.out.println(\"out: \" + Arrays.toString(values));\n",
    "    }\n",
    "    \n",
    "    private int quick(int lo, int hi) {\n",
    "        if (lo >= hi) return 0;\n",
    "        int p = lo, o = 0;\n",
    "        for (int l = lo, h = hi; l < h; ) {\n",
    "            for ( ; p < h; h--) {\n",
    "                if (values[p] > values[h]) {\n",
    "                    int tmp = values[p];\n",
    "                    values[p] = values[h];\n",
    "                    values[h] = tmp;\n",
    "                    l = ++p;\n",
    "                    p = h;\n",
    "                    break;\n",
    "                }\n",
    "            }\n",
    "            for ( ; l < p; l++) {\n",
    "                if (values[l] > values[p]) {\n",
    "                    int tmp = values[p];\n",
    "                    values[p] = values[l];\n",
    "                    values[l] = tmp;\n",
    "                    h = --p;\n",
    "                    p = l;\n",
    "                    break;\n",
    "                }\n",
    "            }\n",
    "        }\n",
    "        o += quick(lo, p - 1);\n",
    "        o += quick(p + 1, hi);\n",
    "        return o;\n",
    "    }\n",
    "    \n",
    "    private static int[] randomInt(int min, int max, int n) {\n",
    "        int[] numbers = new int[n];\n",
    "        for (int i = 0; i < numbers.length; i++) {\n",
    "            numbers[i] = ThreadLocalRandom.current().nextInt(min, max + 1);\n",
    "        }\n",
    "        return numbers;\n",
    "    }    \n",
    "\n",
    "}"
   ]
  },
  {
   "cell_type": "code",
   "execution_count": 2,
   "metadata": {},
   "outputs": [
    {
     "name": "stdout",
     "output_type": "stream",
     "text": [
      "in : [33, 7, 12, 86, 44, 25, 23, 34, 29, 84, 90, 4, 29, 95, 47, 38, 38, 28, 39, 75]\r\n",
      "out: [4, 7, 12, 23, 25, 28, 29, 29, 33, 34, 38, 38, 39, 44, 47, 75, 84, 86, 90, 95]\r\n"
     ]
    }
   ],
   "source": [
    "!javac QuickSort.java\n",
    "!java QuickSort"
   ]
  },
  {
   "cell_type": "markdown",
   "metadata": {},
   "source": [
    "### MergeSort"
   ]
  },
  {
   "cell_type": "code",
   "execution_count": 35,
   "metadata": {},
   "outputs": [
    {
     "name": "stdout",
     "output_type": "stream",
     "text": [
      "Overwriting MergeSort.java\n"
     ]
    }
   ],
   "source": [
    "%%file MergeSort.java\n",
    "\n",
    "import java.util.Arrays;\n",
    "import java.util.concurrent.ThreadLocalRandom;\n",
    "\n",
    "public class MergeSort {\n",
    "\n",
    "    public static void main(String [] args) {\n",
    "        new MergeSort(randomInt(0, 99, 20));\n",
    "    }\n",
    "    \n",
    "    public final int[] values;\n",
    "    \n",
    "    public MergeSort(int[] values) {\n",
    "        this.values = values;\n",
    "        System.out.println(\"in : \" + Arrays.toString(values));\n",
    "        sort(0, values.length - 1);\n",
    "        System.out.println(\"out: \" + Arrays.toString(values));\n",
    "    }\n",
    "    \n",
    "    private int sort(int lo, int hi) {\n",
    "        \n",
    "        if (lo >= hi) return 0;\n",
    "        int m = lo + (hi - lo) / 2, o = 0;\n",
    "        o += sort(lo, m);\n",
    "        o += sort(m + 1, hi);\n",
    "        \n",
    "        int[] tmp = new int[hi - lo + 1];\n",
    "        \n",
    "        for (int i = 0, l = lo, h = m + 1;\n",
    "            i < tmp.length;\n",
    "            tmp[i++] =\n",
    "                (l <= m && h <= hi) ? (values[l] > values[h] ? values[h++] : values[l++]) :\n",
    "                (l <= m)            ? values[l++] : values[h++]\n",
    "        );\n",
    "        for (int i = 0; i < tmp.length; values[lo + i] = tmp[i++]);\n",
    "        \n",
    "        return o;\n",
    "    }\n",
    "    \n",
    "    private static int[] randomInt(int min, int max, int n) {\n",
    "        int[] numbers = new int[n];\n",
    "        for (int i = 0; i < numbers.length; i++) {\n",
    "            numbers[i] = ThreadLocalRandom.current().nextInt(min, max + 1);\n",
    "        }\n",
    "        return numbers;\n",
    "    }\n",
    "\n",
    "}"
   ]
  },
  {
   "cell_type": "code",
   "execution_count": 36,
   "metadata": {},
   "outputs": [
    {
     "name": "stdout",
     "output_type": "stream",
     "text": [
      "in : [63, 17, 36, 2, 48, 67, 43, 6, 56, 33, 55, 56, 90, 80, 34, 46, 82, 4, 47, 50]\r\n",
      "out: [2, 4, 6, 17, 33, 34, 36, 43, 46, 47, 48, 50, 55, 56, 56, 63, 67, 80, 82, 90]\r\n"
     ]
    }
   ],
   "source": [
    "!javac MergeSort.java\n",
    "!java MergeSort"
   ]
  },
  {
   "cell_type": "markdown",
   "metadata": {},
   "source": [
    "## Bellman-Ford"
   ]
  },
  {
   "cell_type": "markdown",
   "metadata": {},
   "source": [
    "## Ford-Fulkson"
   ]
  },
  {
   "cell_type": "code",
   "execution_count": null,
   "metadata": {},
   "outputs": [],
   "source": []
  }
 ],
 "metadata": {
  "kernelspec": {
   "display_name": "Python 3",
   "language": "python",
   "name": "python3"
  },
  "language_info": {
   "codemirror_mode": {
    "name": "ipython",
    "version": 3
   },
   "file_extension": ".py",
   "mimetype": "text/x-python",
   "name": "python",
   "nbconvert_exporter": "python",
   "pygments_lexer": "ipython3",
   "version": "3.5.3"
  }
 },
 "nbformat": 4,
 "nbformat_minor": 2
}
