{
 "cells": [
  {
   "cell_type": "markdown",
   "metadata": {},
   "source": [
    "# Análise de Algoritmos"
   ]
  },
  {
   "cell_type": "markdown",
   "metadata": {},
   "source": [
    "## Algoritmos de ordenação\n",
    "### Bubble sort\n",
    "\n",
    "Ilustração, NUNCA usar."
   ]
  },
  {
   "cell_type": "code",
   "execution_count": 20,
   "metadata": {},
   "outputs": [
    {
     "name": "stdout",
     "output_type": "stream",
     "text": [
      "Writing BubbleSort.java\n"
     ]
    }
   ],
   "source": [
    "%%file BubbleSort.java\n",
    "\n",
    "import java.util.Arrays;\n",
    "import java.util.concurrent.ThreadLocalRandom;\n",
    "\n",
    "public class BubbleSort {\n",
    "\n",
    "    public static void main(String [] args) {\n",
    "        new BubbleSort(randomInt(0, 99, 20));\n",
    "    }\n",
    "    \n",
    "    public BubbleSort(int[] values) {\n",
    "        System.out.println(\"in : \" + Arrays.toString(values));\n",
    "        \n",
    "        for (int i = 0; i < values.length; i++) {\n",
    "            for (int j = i; j < values.length; j++) {\n",
    "                if (values[i] > values[j]) {\n",
    "                    int t = values[j];\n",
    "                    values[j] = values[i];\n",
    "                    values[i] = t;\n",
    "                }\n",
    "            }\n",
    "        }\n",
    "\n",
    "        System.out.println(\"out: \" + Arrays.toString(values));\n",
    "    }\n",
    "    \n",
    "    private static int[] randomInt(int min, int max, int n) {\n",
    "        int[] numbers = new int[n];\n",
    "        for (int i = 0; i < numbers.length; i++) {\n",
    "            numbers[i] = ThreadLocalRandom.current().nextInt(min, max + 1);\n",
    "        }\n",
    "        return numbers;\n",
    "    }    \n",
    "\n",
    "}"
   ]
  },
  {
   "cell_type": "code",
   "execution_count": 21,
   "metadata": {},
   "outputs": [
    {
     "name": "stdout",
     "output_type": "stream",
     "text": [
      "in : [1, 12, 70, 44, 33, 92, 43, 72, 14, 14, 26, 47, 4, 76, 92, 34, 41, 55, 50, 81]\r\n",
      "out: [1, 4, 12, 14, 14, 26, 33, 34, 41, 43, 44, 47, 50, 55, 70, 72, 76, 81, 92, 92]\r\n"
     ]
    }
   ],
   "source": [
    "!javac BubbleSort.java\n",
    "!java BubbleSort"
   ]
  },
  {
   "cell_type": "markdown",
   "metadata": {},
   "source": [
    "### Quick sort\n",
    "\n",
    "Este algoritmo utiliza a estratégia dividir e conquistar.\n"
   ]
  },
  {
   "cell_type": "code",
   "execution_count": 22,
   "metadata": {},
   "outputs": [
    {
     "name": "stdout",
     "output_type": "stream",
     "text": [
      "Writing QuickSort.java\n"
     ]
    }
   ],
   "source": [
    "%%file QuickSort.java\n",
    "\n",
    "import java.util.Arrays;\n",
    "import java.util.concurrent.ThreadLocalRandom;\n",
    "\n",
    "public class QuickSort {\n",
    "\n",
    "    public static void main(String [] args) {\n",
    "        new QuickSort(randomInt(0, 99, 20));\n",
    "    }\n",
    "    \n",
    "    public final int[] values;\n",
    "    \n",
    "    public QuickSort(int[] values) {\n",
    "        this.values = values;\n",
    "        System.out.println(\"in : \" + Arrays.toString(values));\n",
    "        quick(0, values.length - 1);\n",
    "        System.out.println(\"out: \" + Arrays.toString(values));\n",
    "    }\n",
    "    \n",
    "    private int quick(int lo, int hi) {\n",
    "        if (lo >= hi) return 0;\n",
    "        int p = lo, o = 0;\n",
    "        for (int l = lo, h = hi; l < h; ) {\n",
    "            for ( ; p < h; h--) {\n",
    "                if (values[p] > values[h]) {\n",
    "                    int tmp = values[p];\n",
    "                    values[p] = values[h];\n",
    "                    values[h] = tmp;\n",
    "                    l = ++p;\n",
    "                    p = h;\n",
    "                    break;\n",
    "                }\n",
    "            }\n",
    "            for ( ; l < p; l++) {\n",
    "                if (values[l] > values[p]) {\n",
    "                    int tmp = values[p];\n",
    "                    values[p] = values[l];\n",
    "                    values[l] = tmp;\n",
    "                    h = --p;\n",
    "                    p = l;\n",
    "                    break;\n",
    "                }\n",
    "            }\n",
    "        }\n",
    "        o += quick(lo, p - 1);\n",
    "        o += quick(p + 1, hi);\n",
    "        return o;\n",
    "    }\n",
    "    \n",
    "    private static int[] randomInt(int min, int max, int n) {\n",
    "        int[] numbers = new int[n];\n",
    "        for (int i = 0; i < numbers.length; i++) {\n",
    "            numbers[i] = ThreadLocalRandom.current().nextInt(min, max + 1);\n",
    "        }\n",
    "        return numbers;\n",
    "    }    \n",
    "\n",
    "}"
   ]
  },
  {
   "cell_type": "code",
   "execution_count": 23,
   "metadata": {},
   "outputs": [
    {
     "name": "stdout",
     "output_type": "stream",
     "text": [
      "in : [8, 11, 92, 2, 87, 51, 40, 8, 84, 58, 61, 56, 66, 52, 21, 93, 43, 24, 52, 69]\r\n",
      "out: [2, 8, 8, 11, 21, 24, 40, 43, 51, 52, 52, 56, 58, 61, 66, 69, 84, 87, 92, 93]\r\n"
     ]
    }
   ],
   "source": [
    "!javac QuickSort.java\n",
    "!java QuickSort"
   ]
  },
  {
   "cell_type": "markdown",
   "metadata": {},
   "source": [
    "### Merge sort"
   ]
  },
  {
   "cell_type": "code",
   "execution_count": 24,
   "metadata": {},
   "outputs": [
    {
     "name": "stdout",
     "output_type": "stream",
     "text": [
      "Writing MergeSort.java\n"
     ]
    }
   ],
   "source": [
    "%%file MergeSort.java\n",
    "\n",
    "import java.util.Arrays;\n",
    "import java.util.concurrent.ThreadLocalRandom;\n",
    "\n",
    "public class MergeSort {\n",
    "\n",
    "    public static void main(String [] args) {\n",
    "        new MergeSort(randomInt(0, 99, 20));\n",
    "    }\n",
    "    \n",
    "    public final int[] values;\n",
    "    \n",
    "    public MergeSort(int[] values) {\n",
    "        this.values = values;\n",
    "        System.out.println(\"in : \" + Arrays.toString(values));\n",
    "        sort(0, values.length - 1);\n",
    "        System.out.println(\"out: \" + Arrays.toString(values));\n",
    "    }\n",
    "    \n",
    "    private int sort(int lo, int hi) {\n",
    "        \n",
    "        if (lo >= hi) return 0;\n",
    "        int m = lo + (hi - lo) / 2, o = 0;\n",
    "        o += sort(lo, m);\n",
    "        o += sort(m + 1, hi);\n",
    "        \n",
    "        int[] tmp = new int[hi - lo + 1];\n",
    "        \n",
    "        for (int i = 0, l = lo, h = m + 1;\n",
    "            i < tmp.length;\n",
    "            tmp[i++] =\n",
    "                (l <= m && h <= hi) ? (values[l] > values[h] ? values[h++] : values[l++]) :\n",
    "                (l <= m)            ? values[l++] : values[h++]\n",
    "        );\n",
    "        for (int i = 0; i < tmp.length; values[lo + i] = tmp[i++]);\n",
    "        \n",
    "        return o;\n",
    "    }\n",
    "    \n",
    "    private static int[] randomInt(int min, int max, int n) {\n",
    "        int[] numbers = new int[n];\n",
    "        for (int i = 0; i < numbers.length; i++) {\n",
    "            numbers[i] = ThreadLocalRandom.current().nextInt(min, max + 1);\n",
    "        }\n",
    "        return numbers;\n",
    "    }\n",
    "\n",
    "}"
   ]
  },
  {
   "cell_type": "code",
   "execution_count": 25,
   "metadata": {},
   "outputs": [
    {
     "name": "stdout",
     "output_type": "stream",
     "text": [
      "in : [95, 78, 24, 47, 35, 95, 17, 49, 46, 58, 55, 26, 78, 12, 47, 32, 81, 77, 42, 98]\r\n",
      "out: [12, 17, 24, 26, 32, 35, 42, 46, 47, 47, 49, 55, 58, 77, 78, 78, 81, 95, 95, 98]\r\n"
     ]
    }
   ],
   "source": [
    "!javac MergeSort.java\n",
    "!java MergeSort"
   ]
  },
  {
   "cell_type": "markdown",
   "metadata": {},
   "source": [
    "## Bellman-Ford"
   ]
  },
  {
   "cell_type": "code",
   "execution_count": 26,
   "metadata": {
    "scrolled": true
   },
   "outputs": [
    {
     "name": "stdout",
     "output_type": "stream",
     "text": [
      "Writing BellmanFord.java\n"
     ]
    }
   ],
   "source": [
    "%%file BellmanFord.java\n",
    "\n",
    "import java.util.HashMap;\n",
    "import java.util.Map;\n",
    "import java.util.Map.Entry;\n",
    "\n",
    "public class BellmanFord {\n",
    "    \n",
    "    \n",
    "    public static void main(String [] args) {\n",
    "\n",
    "    \tNode s = new Node(\"s\");\n",
    "    \tNode t = new Node(\"t\");\n",
    "    \tNode x = new Node(\"x\");\n",
    "    \tNode y = new Node(\"y\");\n",
    "    \tNode z = new Node(\"z\");\n",
    "    \t\n",
    "    \ts.edges.put(t, 6);\n",
    "    \ts.edges.put(y, 7);    \t\n",
    "    \tt.edges.put(x, 5);\n",
    "    \tt.edges.put(y, 8);\n",
    "    \tt.edges.put(z, -4);    \t\n",
    "    \tx.edges.put(t, -2);    \t\n",
    "    \ty.edges.put(x, -3);\n",
    "    \ty.edges.put(z, 9);\n",
    "    \tz.edges.put(x, 7);\n",
    "    \tz.edges.put(s, 2);\n",
    "\n",
    "    \tBellmanFord graph = new BellmanFord(new Node[] {s, t, x, y, z});\n",
    "    \tgraph.routes(s);\n",
    "    }\n",
    "    \n",
    "    public final Node[] nodes;\n",
    "    \n",
    "    public BellmanFord(Node[] ns) {\n",
    "    \tthis.nodes = ns;\n",
    "    }\n",
    "    \n",
    "    public void routes(Node source) {\n",
    "    \tSystem.out.println(\"source: \" + source.name);\n",
    "    \tfor (Node n : nodes) n.init();\n",
    "    \tsource.cost = 0;\n",
    "    \tfor (int i = 1; i < nodes.length; i++) {\n",
    "    \t\tfor (Node n : nodes) {\n",
    "    \t\t\tfor (Entry<Node, Integer> edge : n.edges.entrySet()) {\n",
    "    \t\t\t\tfinal Node next = edge.getKey();\n",
    "    \t\t\t\tfinal int cost = edge.getValue();\n",
    "    \t\t\t\tif (next.cost > (n.cost + cost)) {\n",
    "    \t\t\t\t\tnext.cost = n.cost + cost;\n",
    "    \t\t\t\t\tnext.previous = n;\n",
    "    \t\t\t\t}\n",
    "    \t\t\t}\n",
    "    \t\t}\n",
    "    \t}\n",
    "    \tfor (Node n : nodes) System.out.println(pathTo(n));\n",
    "    }\n",
    "    \n",
    "    private String pathTo(Node n) {\n",
    "    \treturn n.previous == null ? n.name : pathTo(n.previous) + \" (\" + n.cost + \")> \" + n.name; \n",
    "    }\n",
    "    \n",
    "    public static class Node {\n",
    "    \t\n",
    "    \tprivate String name;\n",
    "        public final Map<Node, Integer> edges = new HashMap<>();\n",
    "        \n",
    "        private int cost = Integer.MAX_VALUE;\n",
    "        private Node previous = null;\n",
    "        \n",
    "        public Node(String name) {\n",
    "        \tthis.name = name;\n",
    "        }\n",
    "        \n",
    "        public void init() {\n",
    "            this.cost = Integer.MAX_VALUE;\n",
    "            this.previous = null;\n",
    "        }\n",
    "        \n",
    "    }\n",
    "\n",
    "}"
   ]
  },
  {
   "cell_type": "code",
   "execution_count": 27,
   "metadata": {},
   "outputs": [
    {
     "name": "stdout",
     "output_type": "stream",
     "text": [
      "source: s\r\n",
      "s\r\n",
      "s (7)> y (4)> x (2)> t\r\n",
      "s (7)> y (4)> x\r\n",
      "s (7)> y\r\n",
      "s (7)> y (4)> x (2)> t (-2)> z\r\n"
     ]
    }
   ],
   "source": [
    "!javac BellmanFord.java\n",
    "!java BellmanFord"
   ]
  },
  {
   "cell_type": "markdown",
   "metadata": {},
   "source": [
    "## Ford-Fulkerson"
   ]
  },
  {
   "cell_type": "code",
   "execution_count": 28,
   "metadata": {},
   "outputs": [
    {
     "name": "stdout",
     "output_type": "stream",
     "text": [
      "Writing FordFulkerson.java\n"
     ]
    }
   ],
   "source": [
    "%%file FordFulkerson.java\n",
    "\n",
    "import java.util.Arrays;\n",
    "import java.util.LinkedList;\n",
    "import java.util.Queue;\n",
    "\n",
    "public class FordFulkerson {\n",
    "    \n",
    "    public static void main(String [] args) {\n",
    "    \tint[][] flow = {\n",
    "    \t\t\t{  0, 100,  50,   0,   0},\n",
    "    \t\t\t{  0,   0,  50,  50,  50},\n",
    "    \t\t\t{  0,   0,   0, 100,   0},\n",
    "    \t\t\t{  0,   0,   0,   0, 125},\n",
    "    \t\t\t{  0,   0,   0,   0,   0}\n",
    "    \t};\n",
    "    \tFordFulkerson graph = new FordFulkerson(flow);\n",
    "    \t\n",
    "    \tint source = 1;\n",
    "    \tint target = 5;\n",
    "    \tint max = graph.max(source, target);\n",
    "    \t\n",
    "    \tSystem.out.println(source + \" -> \" + target + \" : \" + max);\n",
    "    }\n",
    "    \n",
    "    private final int[][] flow;\n",
    "    \n",
    "    public FordFulkerson(int[][] flow) {\n",
    "    \tthis.flow = flow;\n",
    "    \tfor (int i = 0; i < flow.length; i++) flow[i][i] = 0;\n",
    "\t}\n",
    "    \n",
    "    public int max(int s, int t) {\n",
    "    \t\n",
    "    \ts--; t--;\n",
    "    \t\n",
    "    \tfinal int[][] residual = new int[flow.length][flow[0].length];\n",
    "    \tfor (int i = 0; i < residual.length; i++)\n",
    "    \t\tresidual[i] = Arrays.copyOf(flow[i], flow[i].length);\n",
    "    \t\n",
    "\t\tfinal int N = residual.length;\n",
    "\t\t\n",
    "\t\tint max = 0;\n",
    "\n",
    "    \tfor (boolean hasPath = true; hasPath; ) {\n",
    "\n",
    "    \t\thasPath = false;\n",
    "    \t\tQueue<Integer> queue = new LinkedList<>();\n",
    "    \t\tboolean[] visited = new boolean[N];\n",
    "    \t\tint[] parent = new int[N];\n",
    "    \t\tfor (int i = 0; i < N; i++) {\n",
    "    \t\t\tparent[i] = -1;\n",
    "    \t\t\tvisited[i] = false;\n",
    "    \t\t}\n",
    "    \t\t\n",
    "    \t\tqueue.add(s);\n",
    "\t\t\t\n",
    "\t\t\tdo {\n",
    "\t\t\t\tint current = queue.poll();\n",
    "\t    \t\tfor (int i = 0; i < N; i++) {\n",
    "\t    \t\t\tif (visited[i] || residual[current][i] == 0) continue;\n",
    "\t    \t\t\tqueue.add(i);\n",
    "\t    \t\t\tparent[i] = current;\n",
    "\t\t\t\t\tvisited[i] = true;\n",
    "\t\t\t\t\thasPath = true;\n",
    "\t    \t\t}\n",
    "\t\t\t} while (!queue.isEmpty());\n",
    "\t\t\t\n",
    "\t\t\tif (!hasPath) break;\n",
    "\t\t\t\n",
    "\t\t\tInteger min = null;\n",
    "\t\t\t\n",
    "\t\t\tfor (int current = t, i = 0; current != s && i < N; current = parent[current], i++) {\n",
    "\t\t\t\tint f = residual[parent[current]][current];\n",
    "\t\t\t\tmin = min == null || min > f ? f : min;\n",
    "\t\t\t}\n",
    "\t\t\tfor (int current = t, i = 0; current != s && i < N; current = parent[current], i++)\n",
    "\t\t\t\tresidual[parent[current]][current] -= min;\n",
    "\t\t\t\n",
    "\t\t\tmax += min;\n",
    "\n",
    "    \t}\n",
    "    \t\n",
    "    \treturn max;\n",
    "    \t\n",
    "    }\n",
    "\n",
    "}"
   ]
  },
  {
   "cell_type": "code",
   "execution_count": 29,
   "metadata": {},
   "outputs": [
    {
     "name": "stdout",
     "output_type": "stream",
     "text": [
      "1 -> 5 : 150\r\n"
     ]
    }
   ],
   "source": [
    "!javac FordFulkerson.java\n",
    "!java FordFulkerson"
   ]
  },
  {
   "cell_type": "markdown",
   "metadata": {},
   "source": [
    "## Busca binária"
   ]
  },
  {
   "cell_type": "code",
   "execution_count": 30,
   "metadata": {
    "scrolled": false
   },
   "outputs": [
    {
     "name": "stdout",
     "output_type": "stream",
     "text": [
      "Writing BinaryTree.java\n"
     ]
    }
   ],
   "source": [
    "%%file BinaryTree.java\n",
    "\n",
    "public class BinaryTree {\n",
    "    \n",
    "    public static void main(String [] args) {\n",
    "\n",
    "    \tNode<String> r = new Node<>(\"r\");\n",
    "    \tNode<String> s = new Node<>(\"s\");\n",
    "    \tNode<String> t = new Node<>(\"t\");\n",
    "    \tNode<String> u = new Node<>(\"u\");\n",
    "    \tNode<String> v = new Node<>(\"v\");\n",
    "    \tNode<String> x = new Node<>(\"x\");\n",
    "    \tNode<String> y = new Node<>(\"y\");\n",
    "    \tNode<String> z = new Node<>(\"z\");\n",
    "\n",
    "    \tv.insert(t);\n",
    "    \tv.insert(y);\n",
    "    \tv.insert(x);\n",
    "    \tv.insert(r);\n",
    "    \tv.insert(u);\n",
    "    \tv.insert(s);\n",
    "    \tv.insert(z);\n",
    "    \t\n",
    "    \tv.search(\"z\");\n",
    "    \tSystem.out.println();\n",
    "    \tSystem.out.println(v.deepth());\n",
    "    }\n",
    "    \n",
    "    public static class Node<T extends Comparable<T>> {\n",
    "    \t\n",
    "    \tpublic final T value;\n",
    "    \t\n",
    "    \tpublic Node<T> left = null;\n",
    "    \tpublic Node<T> right = null;\n",
    "        \n",
    "        public Node(T value) {\n",
    "        \tthis.value = value;\n",
    "        }\n",
    "\n",
    "        public void insert(Node<T> node) {\n",
    "        \tif (node.value.compareTo(value) <= 0) {\n",
    "        \t\tif (this.left == null) this.left = node;\n",
    "        \t\telse left.insert(node);\n",
    "        \t} else {\n",
    "        \t\tif (this.right == null) this.right = node;\n",
    "        \t\telse right.insert(node);\n",
    "        \t}\n",
    "        }\n",
    "        \n",
    "        public Node<T> search(T value) {\n",
    "        \tNode<T> last = null;\n",
    "        \tif (this.value.equals(value)) last = this;\n",
    "        \telse {\n",
    "        \t\tNode<T> next = (value.compareTo(this.value) <= 0 ? left : right);\n",
    "        \t\tlast = next == null ? null : next.search(value);\n",
    "        \t}\n",
    "        \tif (last != null) System.out.print(this.value);\n",
    "        \treturn last;\n",
    "        }\n",
    "        \n",
    "        public int deepth() {\n",
    "        \tint l = left == null ? 0 : left.deepth();\n",
    "        \tint r = right == null ? 0 : right.deepth();\n",
    "        \treturn (l > r ? l : r) + 1;\n",
    "        }\n",
    "        \n",
    "    }\n",
    "   \n",
    "}"
   ]
  },
  {
   "cell_type": "code",
   "execution_count": 31,
   "metadata": {},
   "outputs": [
    {
     "name": "stdout",
     "output_type": "stream",
     "text": [
      "zyv\r\n",
      "4\r\n"
     ]
    }
   ],
   "source": [
    "!javac BinaryTree.java\n",
    "!java BinaryTree"
   ]
  }
 ],
 "metadata": {
  "kernelspec": {
   "display_name": "Python 3",
   "language": "python",
   "name": "python3"
  },
  "language_info": {
   "codemirror_mode": {
    "name": "ipython",
    "version": 3
   },
   "file_extension": ".py",
   "mimetype": "text/x-python",
   "name": "python",
   "nbconvert_exporter": "python",
   "pygments_lexer": "ipython3",
   "version": "3.5.2"
  }
 },
 "nbformat": 4,
 "nbformat_minor": 2
}
